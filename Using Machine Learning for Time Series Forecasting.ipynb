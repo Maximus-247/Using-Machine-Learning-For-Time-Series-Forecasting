{
 "cells": [
  {
   "cell_type": "markdown",
   "id": "af68956e",
   "metadata": {},
   "source": [
    "# Using Machine Learning for Time Series Forecasting"
   ]
  },
  {
   "cell_type": "code",
   "execution_count": 1,
   "id": "be4ce7be",
   "metadata": {},
   "outputs": [],
   "source": [
    "import pandas as pd\n",
    "import numpy as np\n",
    "import matplotlib.pyplot as plt"
   ]
  },
  {
   "cell_type": "code",
   "execution_count": 2,
   "id": "e01474bb",
   "metadata": {},
   "outputs": [],
   "source": [
    "data=pd.read_csv('Carbon_dioxite.csv', index_col='Date', parse_dates=True)"
   ]
  },
  {
   "cell_type": "code",
   "execution_count": 3,
   "id": "3641849b",
   "metadata": {},
   "outputs": [],
   "source": [
    "data.index.freq='YS'"
   ]
  },
  {
   "cell_type": "code",
   "execution_count": 4,
   "id": "057770c2",
   "metadata": {},
   "outputs": [
    {
     "data": {
      "text/html": [
       "<div>\n",
       "<style scoped>\n",
       "    .dataframe tbody tr th:only-of-type {\n",
       "        vertical-align: middle;\n",
       "    }\n",
       "\n",
       "    .dataframe tbody tr th {\n",
       "        vertical-align: top;\n",
       "    }\n",
       "\n",
       "    .dataframe thead th {\n",
       "        text-align: right;\n",
       "    }\n",
       "</style>\n",
       "<table border=\"1\" class=\"dataframe\">\n",
       "  <thead>\n",
       "    <tr style=\"text-align: right;\">\n",
       "      <th></th>\n",
       "      <th>Carbon</th>\n",
       "    </tr>\n",
       "    <tr>\n",
       "      <th>Date</th>\n",
       "      <th></th>\n",
       "    </tr>\n",
       "  </thead>\n",
       "  <tbody>\n",
       "    <tr>\n",
       "      <th>1980-01-01</th>\n",
       "      <td>346.183721</td>\n",
       "    </tr>\n",
       "    <tr>\n",
       "      <th>1981-01-01</th>\n",
       "      <td>334.381538</td>\n",
       "    </tr>\n",
       "    <tr>\n",
       "      <th>1982-01-01</th>\n",
       "      <td>298.004398</td>\n",
       "    </tr>\n",
       "    <tr>\n",
       "      <th>1983-01-01</th>\n",
       "      <td>293.436371</td>\n",
       "    </tr>\n",
       "    <tr>\n",
       "      <th>1984-01-01</th>\n",
       "      <td>315.858105</td>\n",
       "    </tr>\n",
       "    <tr>\n",
       "      <th>1985-01-01</th>\n",
       "      <td>319.602879</td>\n",
       "    </tr>\n",
       "    <tr>\n",
       "      <th>1986-01-01</th>\n",
       "      <td>304.143786</td>\n",
       "    </tr>\n",
       "    <tr>\n",
       "      <th>1987-01-01</th>\n",
       "      <td>334.571460</td>\n",
       "    </tr>\n",
       "    <tr>\n",
       "      <th>1988-01-01</th>\n",
       "      <td>342.754725</td>\n",
       "    </tr>\n",
       "    <tr>\n",
       "      <th>1989-01-01</th>\n",
       "      <td>357.386027</td>\n",
       "    </tr>\n",
       "    <tr>\n",
       "      <th>1990-01-01</th>\n",
       "      <td>357.641224</td>\n",
       "    </tr>\n",
       "    <tr>\n",
       "      <th>1991-01-01</th>\n",
       "      <td>345.306648</td>\n",
       "    </tr>\n",
       "    <tr>\n",
       "      <th>1992-01-01</th>\n",
       "      <td>349.488584</td>\n",
       "    </tr>\n",
       "    <tr>\n",
       "      <th>1993-01-01</th>\n",
       "      <td>338.890980</td>\n",
       "    </tr>\n",
       "    <tr>\n",
       "      <th>1994-01-01</th>\n",
       "      <td>354.904898</td>\n",
       "    </tr>\n",
       "    <tr>\n",
       "      <th>1995-01-01</th>\n",
       "      <td>343.799384</td>\n",
       "    </tr>\n",
       "    <tr>\n",
       "      <th>1996-01-01</th>\n",
       "      <td>342.358388</td>\n",
       "    </tr>\n",
       "    <tr>\n",
       "      <th>1997-01-01</th>\n",
       "      <td>344.744944</td>\n",
       "    </tr>\n",
       "    <tr>\n",
       "      <th>1998-01-01</th>\n",
       "      <td>355.138737</td>\n",
       "    </tr>\n",
       "    <tr>\n",
       "      <th>1999-01-01</th>\n",
       "      <td>358.770555</td>\n",
       "    </tr>\n",
       "    <tr>\n",
       "      <th>2000-01-01</th>\n",
       "      <td>374.765535</td>\n",
       "    </tr>\n",
       "    <tr>\n",
       "      <th>2001-01-01</th>\n",
       "      <td>379.365907</td>\n",
       "    </tr>\n",
       "    <tr>\n",
       "      <th>2002-01-01</th>\n",
       "      <td>377.496634</td>\n",
       "    </tr>\n",
       "    <tr>\n",
       "      <th>2003-01-01</th>\n",
       "      <td>366.652725</td>\n",
       "    </tr>\n",
       "    <tr>\n",
       "      <th>2004-01-01</th>\n",
       "      <td>384.145104</td>\n",
       "    </tr>\n",
       "    <tr>\n",
       "      <th>2005-01-01</th>\n",
       "      <td>381.471792</td>\n",
       "    </tr>\n",
       "    <tr>\n",
       "      <th>2006-01-01</th>\n",
       "      <td>390.164017</td>\n",
       "    </tr>\n",
       "    <tr>\n",
       "      <th>2007-01-01</th>\n",
       "      <td>395.340927</td>\n",
       "    </tr>\n",
       "    <tr>\n",
       "      <th>2008-01-01</th>\n",
       "      <td>379.480916</td>\n",
       "    </tr>\n",
       "    <tr>\n",
       "      <th>2009-01-01</th>\n",
       "      <td>366.184902</td>\n",
       "    </tr>\n",
       "    <tr>\n",
       "      <th>2010-01-01</th>\n",
       "      <td>360.953079</td>\n",
       "    </tr>\n",
       "    <tr>\n",
       "      <th>2011-01-01</th>\n",
       "      <td>346.864178</td>\n",
       "    </tr>\n",
       "    <tr>\n",
       "      <th>2012-01-01</th>\n",
       "      <td>351.496006</td>\n",
       "    </tr>\n",
       "    <tr>\n",
       "      <th>2013-01-01</th>\n",
       "      <td>354.219000</td>\n",
       "    </tr>\n",
       "    <tr>\n",
       "      <th>2014-01-01</th>\n",
       "      <td>351.477053</td>\n",
       "    </tr>\n",
       "    <tr>\n",
       "      <th>2015-01-01</th>\n",
       "      <td>359.290429</td>\n",
       "    </tr>\n",
       "    <tr>\n",
       "      <th>2016-01-01</th>\n",
       "      <td>359.261859</td>\n",
       "    </tr>\n",
       "    <tr>\n",
       "      <th>2017-01-01</th>\n",
       "      <td>360.913489</td>\n",
       "    </tr>\n",
       "  </tbody>\n",
       "</table>\n",
       "</div>"
      ],
      "text/plain": [
       "                Carbon\n",
       "Date                  \n",
       "1980-01-01  346.183721\n",
       "1981-01-01  334.381538\n",
       "1982-01-01  298.004398\n",
       "1983-01-01  293.436371\n",
       "1984-01-01  315.858105\n",
       "1985-01-01  319.602879\n",
       "1986-01-01  304.143786\n",
       "1987-01-01  334.571460\n",
       "1988-01-01  342.754725\n",
       "1989-01-01  357.386027\n",
       "1990-01-01  357.641224\n",
       "1991-01-01  345.306648\n",
       "1992-01-01  349.488584\n",
       "1993-01-01  338.890980\n",
       "1994-01-01  354.904898\n",
       "1995-01-01  343.799384\n",
       "1996-01-01  342.358388\n",
       "1997-01-01  344.744944\n",
       "1998-01-01  355.138737\n",
       "1999-01-01  358.770555\n",
       "2000-01-01  374.765535\n",
       "2001-01-01  379.365907\n",
       "2002-01-01  377.496634\n",
       "2003-01-01  366.652725\n",
       "2004-01-01  384.145104\n",
       "2005-01-01  381.471792\n",
       "2006-01-01  390.164017\n",
       "2007-01-01  395.340927\n",
       "2008-01-01  379.480916\n",
       "2009-01-01  366.184902\n",
       "2010-01-01  360.953079\n",
       "2011-01-01  346.864178\n",
       "2012-01-01  351.496006\n",
       "2013-01-01  354.219000\n",
       "2014-01-01  351.477053\n",
       "2015-01-01  359.290429\n",
       "2016-01-01  359.261859\n",
       "2017-01-01  360.913489"
      ]
     },
     "execution_count": 4,
     "metadata": {},
     "output_type": "execute_result"
    }
   ],
   "source": [
    "data"
   ]
  },
  {
   "cell_type": "code",
   "execution_count": 5,
   "id": "864ddfef",
   "metadata": {},
   "outputs": [
    {
     "data": {
      "text/plain": [
       "<AxesSubplot:xlabel='Date'>"
      ]
     },
     "execution_count": 5,
     "metadata": {},
     "output_type": "execute_result"
    },
    {
     "data": {
      "image/png": "[encoded data removed]",
      "text/plain": [
       "<Figure size 864x432 with 1 Axes>"
      ]
     },
     "metadata": {
      "needs_background": "light"
     },
     "output_type": "display_data"
    }
   ],
   "source": [
    "data.plot(figsize=(12,6))"
   ]
  },
  {
   "cell_type": "code",
   "execution_count": 6,
   "id": "d98c8861",
   "metadata": {},
   "outputs": [],
   "source": [
    "from statsmodels.tsa.seasonal import seasonal_decompose"
   ]
  },
  {
   "cell_type": "code",
   "execution_count": 7,
   "id": "cf2e7b74",
   "metadata": {},
   "outputs": [],
   "source": [
    "results=seasonal_decompose(data['Carbon'])"
   ]
  },
  {
   "cell_type": "code",
   "execution_count": 8,
   "id": "39278e34",
   "metadata": {},
   "outputs": [
    {
     "data": {
      "image/png": "[encoded data removed]",
      "text/plain": [
       "<Figure size 432x288 with 4 Axes>"
      ]
     },
     "metadata": {
      "needs_background": "light"
     },
     "output_type": "display_data"
    }
   ],
   "source": [
    "results.plot();"
   ]
  },
  {
   "cell_type": "code",
   "execution_count": 9,
   "id": "22d2ca5a",
   "metadata": {},
   "outputs": [
    {
     "data": {
      "text/plain": [
       "38"
      ]
     },
     "execution_count": 9,
     "metadata": {},
     "output_type": "execute_result"
    }
   ],
   "source": [
    "len(data)"
   ]
  },
  {
   "cell_type": "code",
   "execution_count": 10,
   "id": "38c0e3c6",
   "metadata": {},
   "outputs": [],
   "source": [
    "train=data.iloc[:38]\n",
    "test=data.iloc[:38]"
   ]
  },
  {
   "cell_type": "code",
   "execution_count": 11,
   "id": "2e235898",
   "metadata": {},
   "outputs": [],
   "source": [
    "from sklearn.preprocessing import MinMaxScaler\n",
    "scaler=MinMaxScaler()"
   ]
  },
  {
   "cell_type": "code",
   "execution_count": 12,
   "id": "53616736",
   "metadata": {},
   "outputs": [
    {
     "data": {
      "text/plain": [
       "(                Carbon\n",
       " Date                  \n",
       " 1980-01-01  346.183721\n",
       " 1981-01-01  334.381538\n",
       " 1982-01-01  298.004398\n",
       " 1983-01-01  293.436371\n",
       " 1984-01-01  315.858105,\n",
       "                 Carbon\n",
       " Date                  \n",
       " 2013-01-01  354.219000\n",
       " 2014-01-01  351.477053\n",
       " 2015-01-01  359.290429\n",
       " 2016-01-01  359.261859\n",
       " 2017-01-01  360.913489)"
      ]
     },
     "execution_count": 12,
     "metadata": {},
     "output_type": "execute_result"
    }
   ],
   "source": [
    "data.head(), data.tail()"
   ]
  },
  {
   "cell_type": "code",
   "execution_count": 13,
   "id": "84528de2",
   "metadata": {},
   "outputs": [],
   "source": [
    "scaler.fit(train)\n",
    "scaled_train=scaler.transform(train)\n",
    "scaled_test=scaler.transform(test)"
   ]
  },
  {
   "cell_type": "code",
   "execution_count": 14,
   "id": "6d84bc1f",
   "metadata": {},
   "outputs": [
    {
     "data": {
      "text/plain": [
       "array([[0.51761523],\n",
       "       [0.40179918],\n",
       "       [0.04482652],\n",
       "       [0.        ],\n",
       "       [0.22002681],\n",
       "       [0.25677466],\n",
       "       [0.10507298],\n",
       "       [0.4036629 ],\n",
       "       [0.48396613],\n",
       "       [0.62754462]])"
      ]
     },
     "execution_count": 14,
     "metadata": {},
     "output_type": "execute_result"
    }
   ],
   "source": [
    "scaled_train[:10]"
   ]
  },
  {
   "cell_type": "code",
   "execution_count": 15,
   "id": "41b09f4d",
   "metadata": {},
   "outputs": [],
   "source": [
    "from keras.preprocessing.sequence import TimeseriesGenerator"
   ]
  },
  {
   "cell_type": "code",
   "execution_count": 16,
   "id": "ea44a4e7",
   "metadata": {},
   "outputs": [],
   "source": [
    "n_input=3\n",
    "n_features=1\n",
    "generator=TimeseriesGenerator(scaled_train, scaled_train, length=n_input, batch_size=1)"
   ]
  },
  {
   "cell_type": "code",
   "execution_count": 17,
   "id": "2094823a",
   "metadata": {},
   "outputs": [
    {
     "name": "stdout",
     "output_type": "stream",
     "text": [
      "38 35\n"
     ]
    }
   ],
   "source": [
    "print(len(scaled_train), len(generator))"
   ]
  },
  {
   "cell_type": "code",
   "execution_count": 18,
   "id": "78cb397f",
   "metadata": {},
   "outputs": [
    {
     "name": "stdout",
     "output_type": "stream",
     "text": [
      "Given the array:\n",
      "[0.51761523 0.40179918 0.04482652]\n",
      "predict this  y:\n",
      "[[0.]]\n"
     ]
    }
   ],
   "source": [
    "X,y=generator[0]\n",
    "print(f'Given the array:\\n{X.flatten()}')\n",
    "print(f'predict this  y:\\n{y}')"
   ]
  },
  {
   "cell_type": "code",
   "execution_count": 19,
   "id": "14898e8b",
   "metadata": {},
   "outputs": [
    {
     "data": {
      "text/plain": [
       "(1, 3, 1)"
      ]
     },
     "execution_count": 19,
     "metadata": {},
     "output_type": "execute_result"
    }
   ],
   "source": [
    "X.shape"
   ]
  },
  {
   "cell_type": "code",
   "execution_count": 20,
   "id": "9100d19d",
   "metadata": {},
   "outputs": [],
   "source": [
    "n_input=12\n",
    "generator=TimeseriesGenerator(scaled_train, scaled_train, length=n_input, batch_size=1)"
   ]
  },
  {
   "cell_type": "code",
   "execution_count": 21,
   "id": "5f3d5f8e",
   "metadata": {},
   "outputs": [],
   "source": [
    "from keras.models import Sequential\n",
    "from keras.layers import Dense\n",
    "from keras.layers import LSTM"
   ]
  },
  {
   "cell_type": "code",
   "execution_count": 22,
   "id": "98b22c46",
   "metadata": {},
   "outputs": [],
   "source": [
    "model=Sequential()\n",
    "model.add(LSTM(100, activation='relu', input_shape=(n_input, n_features)))\n",
    "model.add(Dense(1))\n",
    "model.compile(optimizer='adam', loss='mse')"
   ]
  },
  {
   "cell_type": "code",
   "execution_count": 23,
   "id": "6e6f67a7",
   "metadata": {},
   "outputs": [
    {
     "name": "stdout",
     "output_type": "stream",
     "text": [
      "Model: \"sequential\"\n",
      "_________________________________________________________________\n",
      "Layer (type)                 Output Shape              Param #   \n",
      "=================================================================\n",
      "lstm (LSTM)                  (None, 100)               40800     \n",
      "_________________________________________________________________\n",
      "dense (Dense)                (None, 1)                 101       \n",
      "=================================================================\n",
      "Total params: 40,901\n",
      "Trainable params: 40,901\n",
      "Non-trainable params: 0\n",
      "_________________________________________________________________\n"
     ]
    }
   ],
   "source": [
    "model.summary()"
   ]
  },
  {
   "cell_type": "code",
   "execution_count": 24,
   "id": "0c2f233a",
   "metadata": {},
   "outputs": [
    {
     "name": "stdout",
     "output_type": "stream",
     "text": [
      "Epoch 1/50\n",
      "26/26 [==============================] - 0s 3ms/step - loss: 0.1630\n",
      "Epoch 2/50\n",
      "26/26 [==============================] - 0s 3ms/step - loss: 0.0318\n",
      "Epoch 3/50\n",
      "26/26 [==============================] - 0s 3ms/step - loss: 0.0235\n",
      "Epoch 4/50\n",
      "26/26 [==============================] - 0s 3ms/step - loss: 0.0303\n",
      "Epoch 5/50\n",
      "26/26 [==============================] - 0s 3ms/step - loss: 0.0223\n",
      "Epoch 6/50\n",
      "26/26 [==============================] - 0s 3ms/step - loss: 0.0197\n",
      "Epoch 7/50\n",
      "26/26 [==============================] - 0s 3ms/step - loss: 0.0205\n",
      "Epoch 8/50\n",
      "26/26 [==============================] - 0s 3ms/step - loss: 0.0184\n",
      "Epoch 9/50\n",
      "26/26 [==============================] - 0s 3ms/step - loss: 0.0182\n",
      "Epoch 10/50\n",
      "26/26 [==============================] - 0s 2ms/step - loss: 0.0184\n",
      "Epoch 11/50\n",
      "26/26 [==============================] - 0s 3ms/step - loss: 0.0213\n",
      "Epoch 12/50\n",
      "26/26 [==============================] - 0s 3ms/step - loss: 0.0222\n",
      "Epoch 13/50\n",
      "26/26 [==============================] - 0s 3ms/step - loss: 0.0180\n",
      "Epoch 14/50\n",
      "26/26 [==============================] - 0s 3ms/step - loss: 0.0181\n",
      "Epoch 15/50\n",
      "26/26 [==============================] - 0s 3ms/step - loss: 0.0186\n",
      "Epoch 16/50\n",
      "26/26 [==============================] - 0s 2ms/step - loss: 0.0166\n",
      "Epoch 17/50\n",
      "26/26 [==============================] - 0s 3ms/step - loss: 0.0173\n",
      "Epoch 18/50\n",
      "26/26 [==============================] - 0s 3ms/step - loss: 0.0153\n",
      "Epoch 19/50\n",
      "26/26 [==============================] - 0s 3ms/step - loss: 0.0164\n",
      "Epoch 20/50\n",
      "26/26 [==============================] - 0s 3ms/step - loss: 0.0158\n",
      "Epoch 21/50\n",
      "26/26 [==============================] - 0s 3ms/step - loss: 0.0147\n",
      "Epoch 22/50\n",
      "26/26 [==============================] - 0s 3ms/step - loss: 0.0158\n",
      "Epoch 23/50\n",
      "26/26 [==============================] - 0s 3ms/step - loss: 0.0138\n",
      "Epoch 24/50\n",
      "26/26 [==============================] - 0s 3ms/step - loss: 0.0144\n",
      "Epoch 25/50\n",
      "26/26 [==============================] - 0s 3ms/step - loss: 0.0157\n",
      "Epoch 26/50\n",
      "26/26 [==============================] - 0s 3ms/step - loss: 0.0165\n",
      "Epoch 27/50\n",
      "26/26 [==============================] - 0s 3ms/step - loss: 0.0152\n",
      "Epoch 28/50\n",
      "26/26 [==============================] - 0s 4ms/step - loss: 0.0137\n",
      "Epoch 29/50\n",
      "26/26 [==============================] - 0s 3ms/step - loss: 0.0136\n",
      "Epoch 30/50\n",
      "26/26 [==============================] - 0s 3ms/step - loss: 0.0123\n",
      "Epoch 31/50\n",
      "26/26 [==============================] - 0s 3ms/step - loss: 0.0125\n",
      "Epoch 32/50\n",
      "26/26 [==============================] - 0s 3ms/step - loss: 0.0120\n",
      "Epoch 33/50\n",
      "26/26 [==============================] - 0s 4ms/step - loss: 0.0133\n",
      "Epoch 34/50\n",
      "26/26 [==============================] - 0s 3ms/step - loss: 0.0141\n",
      "Epoch 35/50\n",
      "26/26 [==============================] - 0s 3ms/step - loss: 0.0137\n",
      "Epoch 36/50\n",
      "26/26 [==============================] - 0s 3ms/step - loss: 0.0124\n",
      "Epoch 37/50\n",
      "26/26 [==============================] - 0s 3ms/step - loss: 0.0107\n",
      "Epoch 38/50\n",
      "26/26 [==============================] - 0s 3ms/step - loss: 0.0118\n",
      "Epoch 39/50\n",
      "26/26 [==============================] - 0s 3ms/step - loss: 0.0115\n",
      "Epoch 40/50\n",
      "26/26 [==============================] - 0s 4ms/step - loss: 0.0117\n",
      "Epoch 41/50\n",
      "26/26 [==============================] - 0s 3ms/step - loss: 0.0133\n",
      "Epoch 42/50\n",
      "26/26 [==============================] - 0s 3ms/step - loss: 0.0136\n",
      "Epoch 43/50\n",
      "26/26 [==============================] - 0s 3ms/step - loss: 0.0120\n",
      "Epoch 44/50\n",
      "26/26 [==============================] - 0s 3ms/step - loss: 0.0117\n",
      "Epoch 45/50\n",
      "26/26 [==============================] - 0s 3ms/step - loss: 0.0110\n",
      "Epoch 46/50\n",
      "26/26 [==============================] - 0s 3ms/step - loss: 0.0114\n",
      "Epoch 47/50\n",
      "26/26 [==============================] - 0s 3ms/step - loss: 0.0096\n",
      "Epoch 48/50\n",
      "26/26 [==============================] - 0s 3ms/step - loss: 0.0100\n",
      "Epoch 49/50\n",
      "26/26 [==============================] - 0s 3ms/step - loss: 0.0108\n",
      "Epoch 50/50\n",
      "26/26 [==============================] - 0s 3ms/step - loss: 0.0104\n"
     ]
    },
    {
     "data": {
      "text/plain": [
       "([<matplotlib.lines.Line2D at 0x207519ced30>],\n",
       " [0.16295522451400757,\n",
       "  0.03180588036775589,\n",
       "  0.023533664643764496,\n",
       "  0.030309312045574188,\n",
       "  0.022334178909659386,\n",
       "  0.019726496189832687,\n",
       "  0.020453911274671555,\n",
       "  0.018431084230542183,\n",
       "  0.018224550411105156,\n",
       "  0.018352922052145004,\n",
       "  0.02129482291638851,\n",
       "  0.022155126556754112,\n",
       "  0.017968768253922462,\n",
       "  0.018126297742128372,\n",
       "  0.018629148602485657,\n",
       "  0.016558757051825523,\n",
       "  0.017324920743703842,\n",
       "  0.015281504020094872,\n",
       "  0.016448581591248512,\n",
       "  0.01575974002480507,\n",
       "  0.014747253619134426,\n",
       "  0.01583152823150158,\n",
       "  0.013800973072648048,\n",
       "  0.014357119798660278,\n",
       "  0.01571340300142765,\n",
       "  0.016478542238473892,\n",
       "  0.01519088540226221,\n",
       "  0.01367153599858284,\n",
       "  0.013649778440594673,\n",
       "  0.012259130366146564,\n",
       "  0.012452317401766777,\n",
       "  0.011965994723141193,\n",
       "  0.013269172050058842,\n",
       "  0.014120446518063545,\n",
       "  0.013695085421204567,\n",
       "  0.012381142936646938,\n",
       "  0.01074130367487669,\n",
       "  0.011791526339948177,\n",
       "  0.011466077528893948,\n",
       "  0.011682277545332909,\n",
       "  0.013256988488137722,\n",
       "  0.013610540889203548,\n",
       "  0.011970832012593746,\n",
       "  0.011650731787085533,\n",
       "  0.01104897353798151,\n",
       "  0.011440039612352848,\n",
       "  0.00956092681735754,\n",
       "  0.010004598647356033,\n",
       "  0.010849690064787865,\n",
       "  0.010381851345300674])"
      ]
     },
     "execution_count": 24,
     "metadata": {},
     "output_type": "execute_result"
    },
    {
     "data": {
      "image/png": "[encoded data removed]",
      "text/plain": [
       "<Figure size 432x288 with 1 Axes>"
      ]
     },
     "metadata": {
      "needs_background": "light"
     },
     "output_type": "display_data"
    }
   ],
   "source": [
    "model.fit(generator, epochs=50)\n",
    "loss_per_epoch=model.history.history['loss']\n",
    "plt.plot(range(len(loss_per_epoch))), loss_per_epoch"
   ]
  },
  {
   "cell_type": "code",
   "execution_count": 25,
   "id": "ad13fe84",
   "metadata": {},
   "outputs": [],
   "source": [
    "last_train_batch=scaled_train[-12:]"
   ]
  },
  {
   "cell_type": "code",
   "execution_count": 26,
   "id": "6cb67c37",
   "metadata": {},
   "outputs": [],
   "source": [
    "last_train_batch=last_train_batch.reshape(1, n_input, n_features)"
   ]
  },
  {
   "cell_type": "code",
   "execution_count": 27,
   "id": "dc9a9a38",
   "metadata": {},
   "outputs": [
    {
     "data": {
      "text/plain": [
       "array([[0.6493838]], dtype=float32)"
      ]
     },
     "execution_count": 27,
     "metadata": {},
     "output_type": "execute_result"
    }
   ],
   "source": [
    "model.predict(last_train_batch)"
   ]
  },
  {
   "cell_type": "code",
   "execution_count": 28,
   "id": "c5634199",
   "metadata": {},
   "outputs": [
    {
     "data": {
      "text/plain": [
       "array([0.51761523])"
      ]
     },
     "execution_count": 28,
     "metadata": {},
     "output_type": "execute_result"
    }
   ],
   "source": [
    "scaled_test[0]"
   ]
  },
  {
   "cell_type": "code",
   "execution_count": 29,
   "id": "69d8f5b1",
   "metadata": {},
   "outputs": [],
   "source": [
    "test_predictions=[]\n",
    "first_eval_batch=scaled_train[-n_input:]\n",
    "current_batch=first_eval_batch.reshape((1,n_input, n_features))\n",
    "for i in range(len(test)):\n",
    "    current_pred=model.predict(current_batch)[0]\n",
    "    test_predictions.append(current_pred)\n",
    "    current_batch=np.append(current_batch[:,1:,:], [[current_pred]], axis=1)"
   ]
  },
  {
   "cell_type": "code",
   "execution_count": 30,
   "id": "d2edfcc2",
   "metadata": {},
   "outputs": [
    {
     "data": {
      "text/plain": [
       "[array([0.6493838], dtype=float32),\n",
       " array([0.65690964], dtype=float32),\n",
       " array([0.6665936], dtype=float32),\n",
       " array([0.6721837], dtype=float32),\n",
       " array([0.6756221], dtype=float32),\n",
       " array([0.6780823], dtype=float32),\n",
       " array([0.67779213], dtype=float32),\n",
       " array([0.6766453], dtype=float32),\n",
       " array([0.67488706], dtype=float32),\n",
       " array([0.67185366], dtype=float32),\n",
       " array([0.669618], dtype=float32),\n",
       " array([0.66728276], dtype=float32),\n",
       " array([0.66535985], dtype=float32),\n",
       " array([0.6634887], dtype=float32),\n",
       " array([0.6620051], dtype=float32),\n",
       " array([0.6609558], dtype=float32),\n",
       " array([0.6603286], dtype=float32),\n",
       " array([0.6600726], dtype=float32),\n",
       " array([0.6601465], dtype=float32),\n",
       " array([0.6604616], dtype=float32),\n",
       " array([0.660927], dtype=float32),\n",
       " array([0.6614843], dtype=float32),\n",
       " array([0.66205907], dtype=float32),\n",
       " array([0.6626146], dtype=float32),\n",
       " array([0.6631106], dtype=float32),\n",
       " array([0.66352654], dtype=float32),\n",
       " array([0.6638461], dtype=float32),\n",
       " array([0.6640659], dtype=float32),\n",
       " array([0.6641911], dtype=float32),\n",
       " array([0.66423315], dtype=float32),\n",
       " array([0.66420674], dtype=float32),\n",
       " array([0.6641287], dtype=float32),\n",
       " array([0.6640168], dtype=float32),\n",
       " array([0.66388637], dtype=float32),\n",
       " array([0.66375136], dtype=float32),\n",
       " array([0.66362333], dtype=float32),\n",
       " array([0.66351], dtype=float32),\n",
       " array([0.6634169], dtype=float32)]"
      ]
     },
     "execution_count": 30,
     "metadata": {},
     "output_type": "execute_result"
    }
   ],
   "source": [
    "test_predictions"
   ]
  },
  {
   "cell_type": "code",
   "execution_count": 31,
   "id": "7ff4c67e",
   "metadata": {},
   "outputs": [
    {
     "data": {
      "text/html": [
       "<div>\n",
       "<style scoped>\n",
       "    .dataframe tbody tr th:only-of-type {\n",
       "        vertical-align: middle;\n",
       "    }\n",
       "\n",
       "    .dataframe tbody tr th {\n",
       "        vertical-align: top;\n",
       "    }\n",
       "\n",
       "    .dataframe thead th {\n",
       "        text-align: right;\n",
       "    }\n",
       "</style>\n",
       "<table border=\"1\" class=\"dataframe\">\n",
       "  <thead>\n",
       "    <tr style=\"text-align: right;\">\n",
       "      <th></th>\n",
       "      <th>Carbon</th>\n",
       "    </tr>\n",
       "    <tr>\n",
       "      <th>Date</th>\n",
       "      <th></th>\n",
       "    </tr>\n",
       "  </thead>\n",
       "  <tbody>\n",
       "    <tr>\n",
       "      <th>1980-01-01</th>\n",
       "      <td>346.183721</td>\n",
       "    </tr>\n",
       "    <tr>\n",
       "      <th>1981-01-01</th>\n",
       "      <td>334.381538</td>\n",
       "    </tr>\n",
       "    <tr>\n",
       "      <th>1982-01-01</th>\n",
       "      <td>298.004398</td>\n",
       "    </tr>\n",
       "    <tr>\n",
       "      <th>1983-01-01</th>\n",
       "      <td>293.436371</td>\n",
       "    </tr>\n",
       "    <tr>\n",
       "      <th>1984-01-01</th>\n",
       "      <td>315.858105</td>\n",
       "    </tr>\n",
       "  </tbody>\n",
       "</table>\n",
       "</div>"
      ],
      "text/plain": [
       "                Carbon\n",
       "Date                  \n",
       "1980-01-01  346.183721\n",
       "1981-01-01  334.381538\n",
       "1982-01-01  298.004398\n",
       "1983-01-01  293.436371\n",
       "1984-01-01  315.858105"
      ]
     },
     "execution_count": 31,
     "metadata": {},
     "output_type": "execute_result"
    }
   ],
   "source": [
    "test.head()"
   ]
  },
  {
   "cell_type": "code",
   "execution_count": 32,
   "id": "98f4711f",
   "metadata": {},
   "outputs": [],
   "source": [
    "true_predictions=scaler.inverse_transform(test_predictions)"
   ]
  },
  {
   "cell_type": "code",
   "execution_count": 33,
   "id": "47d053e5",
   "metadata": {},
   "outputs": [
    {
     "name": "stderr",
     "output_type": "stream",
     "text": [
      "C:\\Users\\MUVIRI~1\\AppData\\Local\\Temp/ipykernel_18788/2664784394.py:1: SettingWithCopyWarning: \n",
      "A value is trying to be set on a copy of a slice from a DataFrame.\n",
      "Try using .loc[row_indexer,col_indexer] = value instead\n",
      "\n",
      "See the caveats in the documentation: https://pandas.pydata.org/pandas-docs/stable/user_guide/indexing.html#returning-a-view-versus-a-copy\n",
      "  test['Predictions']=true_predictions\n"
     ]
    }
   ],
   "source": [
    "test['Predictions']=true_predictions"
   ]
  },
  {
   "cell_type": "code",
   "execution_count": 34,
   "id": "8f7fe479",
   "metadata": {},
   "outputs": [
    {
     "data": {
      "text/plain": [
       "Date\n",
       "1980-01-01    359.611537\n",
       "1981-01-01    360.378457\n",
       "1982-01-01    361.365297\n",
       "1983-01-01    361.934952\n",
       "1984-01-01    362.285342\n",
       "1985-01-01    362.536045\n",
       "1986-01-01    362.506477\n",
       "1987-01-01    362.389608\n",
       "1988-01-01    362.210437\n",
       "1989-01-01    361.901320\n",
       "1990-01-01    361.673497\n",
       "1991-01-01    361.435524\n",
       "1992-01-01    361.239572\n",
       "1993-01-01    361.048891\n",
       "1994-01-01    360.897709\n",
       "1995-01-01    360.790777\n",
       "1996-01-01    360.726867\n",
       "1997-01-01    360.700779\n",
       "1998-01-01    360.708304\n",
       "1999-01-01    360.740418\n",
       "2000-01-01    360.787843\n",
       "2001-01-01    360.844635\n",
       "2002-01-01    360.903206\n",
       "2003-01-01    360.959816\n",
       "2004-01-01    361.010364\n",
       "2005-01-01    361.052748\n",
       "2006-01-01    361.085311\n",
       "2007-01-01    361.107711\n",
       "2008-01-01    361.120473\n",
       "2009-01-01    361.124755\n",
       "2010-01-01    361.122064\n",
       "2011-01-01    361.114113\n",
       "2012-01-01    361.102706\n",
       "2013-01-01    361.089417\n",
       "2014-01-01    361.075659\n",
       "2015-01-01    361.062612\n",
       "2016-01-01    361.051065\n",
       "2017-01-01    361.041578\n",
       "Freq: AS-JAN, Name: Predictions, dtype: float64"
      ]
     },
     "execution_count": 34,
     "metadata": {},
     "output_type": "execute_result"
    }
   ],
   "source": [
    "test['Predictions']"
   ]
  },
  {
   "cell_type": "code",
   "execution_count": 35,
   "id": "af081bd8",
   "metadata": {},
   "outputs": [
    {
     "data": {
      "text/plain": [
       "<AxesSubplot:xlabel='Date'>"
      ]
     },
     "execution_count": 35,
     "metadata": {},
     "output_type": "execute_result"
    },
    {
     "data": {
      "image/png": "[encoded data removed]",
      "text/plain": [
       "<Figure size 864x432 with 1 Axes>"
      ]
     },
     "metadata": {
      "needs_background": "light"
     },
     "output_type": "display_data"
    }
   ],
   "source": [
    "test.plot(figsize=(12,6))"
   ]
  },
  {
   "cell_type": "code",
   "execution_count": 36,
   "id": "7ddc4626",
   "metadata": {},
   "outputs": [],
   "source": [
    "from sklearn.metrics import mean_squared_error\n",
    "from math import sqrt\n",
    "rmse=sqrt(mean_squared_error(test['Carbon'], test['Predictions']))"
   ]
  },
  {
   "cell_type": "code",
   "execution_count": 37,
   "id": "0b82e20f",
   "metadata": {},
   "outputs": [
    {
     "name": "stdout",
     "output_type": "stream",
     "text": [
      "25.452262367914717\n"
     ]
    }
   ],
   "source": [
    "print(rmse)"
   ]
  },
  {
   "cell_type": "code",
   "execution_count": null,
   "id": "9440ed2f",
   "metadata": {},
   "outputs": [],
   "source": []
  }
 ],
 "metadata": {
  "kernelspec": {
   "display_name": "Python 3 (ipykernel)",
   "language": "python",
   "name": "python3"
  },
  "language_info": {
   "codemirror_mode": {
    "name": "ipython",
    "version": 3
   },
   "file_extension": ".py",
   "mimetype": "text/x-python",
   "name": "python",
   "nbconvert_exporter": "python",
   "pygments_lexer": "ipython3",
   "version": "3.9.7"
  }
 },
 "nbformat": 4,
 "nbformat_minor": 5
}
